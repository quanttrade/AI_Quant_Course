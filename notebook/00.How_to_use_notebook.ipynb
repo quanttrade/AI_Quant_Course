{
 "cells": [
  {
   "cell_type": "markdown",
   "metadata": {
    "collapsed": true
   },
   "source": [
    "一、简介\n",
    "\n",
    "简而言之，Jupyter Notebook是以网页的形式打开，可以在网页页面中直接编写代码和运行代码，\n",
    "\n",
    "代码的运行结果也会直接在代码块下显示的程序。如在编程过程中需要编写说明文档，可在同一个\n",
    "\n",
    "页面中直接编写，便于作及时的说明和解释。即Jupyter Notebook中所有交互计算、编写说明文档、\n",
    "\n",
    "数学公式、图片以及其他富媒体形式的输入和输出，都是以文档的形式体现的。这些文档是保存为后\n",
    "\n",
    "缀名为.ipynb的JSON格式文件，不仅便于版本控制，也方便与他人共享。此外，文档还可以导出为：\n",
    "\n",
    "HTML、LaTeX、PDF等格式。\n",
    "\n",
    "Jupyter Notebook的主要特点：\n",
    "\n",
    "① 编程时具有语法高亮、缩进、tab补全的功能。\n",
    "\n",
    "② 可直接通过浏览器运行代码，同时在代码块下方展示运行结果。\n",
    "\n",
    "③ 以富媒体格式展示计算结果。富媒体格式包括：HTML，LaTeX，PNG，SVG等。\n",
    "\n",
    "④ 对代码编写说明文档或语句时，支持Markdown语法。\n",
    "\n",
    "⑤ 支持使用LaTeX编写数学性说明。\n",
    "\n",
    "二、如何使用本教程Notebook\n",
    "\n",
    "本教程的程序示例都是以Notebook的形式存放于 https://github.com/shgefu/Use-AI-Tech-to-build-Quant-Demo 项目下\n"
   ]
  },
  {
   "cell_type": "code",
   "execution_count": null,
   "metadata": {},
   "outputs": [],
   "source": []
  }
 ],
 "metadata": {
  "kernelspec": {
   "display_name": "Python 2",
   "language": "python",
   "name": "python2"
  },
  "language_info": {
   "codemirror_mode": {
    "name": "ipython",
    "version": 2
   },
   "file_extension": ".py",
   "mimetype": "text/x-python",
   "name": "python",
   "nbconvert_exporter": "python",
   "pygments_lexer": "ipython2",
   "version": "2.7.6"
  }
 },
 "nbformat": 4,
 "nbformat_minor": 0
}
