{
 "cells": [
  {
   "cell_type": "markdown",
   "metadata": {
    "collapsed": true
   },
   "source": [
    "    \n",
    "    如果我们使用Pyhton作为量化交易策略开发语言，那么有类重要的数据类型需要认识，在后续的开发中经常会用到。\n",
    "    \n",
    "<h1>一.Numpy相关数据类型</h1>\n",
    "    \n",
    "    NumPy 是一个 Python 包，也是使用较多的一个包。 它代表 “Numeric Python”，它是一个由多维数组对象和用于处理数组的例程集合组成的库。\n",
    "Numpy是一个开源的项目，可以免费使用，有很多贡献者为其贡献代码。Numpy针对不同的平台有优化计算性能的优化版本，比如Windows平台，\n",
    "Numpy就有针对Intel的CPU内置数值计算优化指令而编译的mkl版本。\n",
    "    一般我们可以通过在python中pip install numpy安装numpy，也可以到https://www.lfd.uci.edu/~gohlke/pythonlibs 下Wheel安装包安装。\n",
    "    使用numpy开发人员可以完成：\n",
    "    >多维数组的算数和逻辑运算\n",
    "    >傅立叶变换和用于图形操作的例程\n",
    "    >与线性代数有关的操作,NumPy 拥有线性代数和随机数生成的内置函数。\n",
    "    numpy计算具有多维度、高速、节省空间、内置大量计算函数的特点。更多技术信息，可以参考官网：https://docs.scipy.org/doc/\n"
   ]
  },
  {
   "cell_type": "markdown",
   "metadata": {},
   "source": [
    "<h2> 1.1 创建ndarray数组 </h2>\n",
    "\n",
    "ndarray：N维数组对象（矩阵），所有元素必须是相同类型。 \n",
    "\n",
    "ndarray属性：ndim属性，表示维度个数；shape属性，表示各维度大小；dtype属性，表示数据类型。\n",
    "\n",
    "创建ndarray数组函数："
   ]
  },
  {
   "cell_type": "code",
   "execution_count": 1,
   "metadata": {},
   "outputs": [
    {
     "name": "stdout",
     "output_type": "stream",
     "text": [
      "使用列表生成一维数组\n[1 2 3 4 5 6]\nint32\n使用列表生成二维数组\n[[1 2]\n [3 4]\n [5 6]]\n2\n(3, 2)\n使用zero/ones/empty创建数组:根据shape来创建\n[0. 0. 0. 0. 0. 0.]\n[[0. 0. 0.]\n [0. 0. 0.]]\n[[1. 1. 1.]\n [1. 1. 1.]]\n[[5.11798224e-307 1.37961370e-306 1.69118108e-306]\n [9.34609790e-307 1.11261027e-306 1.29061821e-306]\n [8.90103559e-307 1.24611470e-306 0.00000000e+000]]\n使用arrange生成连续元素\n[0 1 2 3 4 5]\n[0 2 4]\n"
     ]
    }
   ],
   "source": [
    "import numpy\n",
    "\n",
    "print('使用列表生成一维数组')\n",
    "data = [1,2,3,4,5,6]\n",
    "x = numpy.array(data)\n",
    "print(x)       #打印数组\n",
    "print(x.dtype) #打印数组元素的类型\n",
    "\n",
    "print('使用列表生成二维数组')\n",
    "data = [[1,2],[3,4],[5,6]]\n",
    "x = numpy.array(data)\n",
    "print(x)       #打印数组\n",
    "print(x.ndim)  #打印数组的维度\n",
    "print(x.shape) #打印数组各个维度的长度。shape是一个元组\n",
    "\n",
    "print('使用zero/ones/empty创建数组:根据shape来创建')\n",
    "x = numpy.zeros(6)     #创建一维长度为6的，元素都是0一维数组\n",
    "print(x)\n",
    "x = numpy.zeros((2,3)) #创建一维长度为2，二维长度为3的二维0数组\n",
    "print(x)\n",
    "x = numpy.ones((2,3))  #创建一维长度为2，二维长度为3的二维1数组\n",
    "print(x)\n",
    "x = numpy.empty((3,3)) #创建一维长度为2，二维长度为3,未初始化的二维数组\n",
    "print(x)\n",
    "\n",
    "print('使用arrange生成连续元素')\n",
    "print(numpy.arange(6))      # [0,1,2,3,4,5,] 开区间\n",
    "print(numpy.arange(0,6,2))  # [0, 2，4]\n"
   ]
  },
  {
   "cell_type": "markdown",
   "metadata": {
    "collapsed": true
   },
   "source": [
    "<h2> 1.2 指定ndarray数组类型 </h2>"
   ]
  },
  {
   "cell_type": "code",
   "execution_count": 2,
   "metadata": {},
   "outputs": [
    {
     "name": "stdout",
     "output_type": "stream",
     "text": [
      "生成指定元素类型的数组:设置dtype属性\n[1 2 3]\nint64\n[1. 2. 3.]\nfloat64\n使用astype复制数组，并转换类型\n[1 2 3]\n[1.  2.6 3. ]\n[1. 2. 3.]\n将字符串元素转换为数值元素\n[b'1' b'2' b'3']\n[1 2 3]\n使用其他数组的数据类型作为参数\n[0 1 2]\n[0. 1. 2.]\n"
     ]
    }
   ],
   "source": [
    "print('生成指定元素类型的数组:设置dtype属性')\n",
    "x = numpy.array([1,2.6,3],dtype = numpy.int64)\n",
    "print(x) # 元素类型为int64\n",
    "print(x.dtype)\n",
    "x = numpy.array([1,2,3],dtype = numpy.float64)\n",
    "print(x) # 元素类型为float64\n",
    "print(x.dtype)\n",
    "\n",
    "print('使用astype复制数组，并转换类型')\n",
    "x = numpy.array([1,2.6,3],dtype = numpy.float64)\n",
    "y = x.astype(numpy.int32)\n",
    "print(y) # [1 2 3]\n",
    "print(x) # [ 1.   2.6  3. ]\n",
    "z = y.astype(numpy.float64)\n",
    "print(z) # [ 1.  2.  3.]\n",
    "\n",
    "print('将字符串元素转换为数值元素')\n",
    "x = numpy.array(['1','2','3'],dtype = numpy.string_)\n",
    "y = x.astype(numpy.int32)\n",
    "print(x) # ['1' '2' '3']\n",
    "print(y) # [1 2 3] 若转换失败会抛出异常\n",
    "\n",
    "print('使用其他数组的数据类型作为参数')\n",
    "x = numpy.array([ 1., 2.6,3. ],dtype = numpy.float32);\n",
    "y = numpy.arange(3,dtype=numpy.int32);\n",
    "print(y) # [0 1 2]\n",
    "print(y.astype(x.dtype)) # [ 0.  1.  2.]"
   ]
  },
  {
   "cell_type": "markdown",
   "metadata": {},
   "source": [
    "<h2> 1.3 ndarray的矢量化运算 </h2>"
   ]
  },
  {
   "cell_type": "code",
   "execution_count": 3,
   "metadata": {},
   "outputs": [
    {
     "name": "stdout",
     "output_type": "stream",
     "text": [
      "ndarray数组与标量/数组的运算\n[2 4 6]\n[False False  True]\n[4 6 8]\n[False False False]\n"
     ]
    }
   ],
   "source": [
    "print('ndarray数组与标量/数组的运算')\n",
    "x = numpy.array([1,2,3]) \n",
    "print(x*2) # [2 4 6]\n",
    "print(x>2) # [False False  True]\n",
    "y = numpy.array([3,4,5])\n",
    "print(x+y) # [4 6 8]\n",
    "print(x>y) # [False False False]"
   ]
  },
  {
   "cell_type": "markdown",
   "metadata": {},
   "source": [
    "<h2> 1.4 ndarray数组的基本索引和切片 </h2>"
   ]
  },
  {
   "cell_type": "code",
   "execution_count": 4,
   "metadata": {},
   "outputs": [
    {
     "name": "stdout",
     "output_type": "stream",
     "text": [
      "ndarray的基本索引\n[1 2]\n2\n2\n[[1 2]\n [3 4]]\n[[1 2]\n [3 4]]\n1\n[[0 2]\n [3 4]]\n[[-1  2]\n [ 3  4]]\n[[-1  2]\n [ 3  4]]\nndarray的切片\n[2 3]\n[1 2 3]\n[2 3 4 5]\n[1 3]\n[[1 2]\n [3 4]]\n[[1]\n [3]]\n[[0 2]\n [0 4]\n [5 6]]\n[[8 2]\n [6 4]\n [5 6]]\n"
     ]
    }
   ],
   "source": [
    "print('ndarray的基本索引')\n",
    "x = numpy.array([[1,2],[3,4],[5,6]])\n",
    "print(x[0])    # [1,2]\n",
    "print(x[0][1]) # 2,普通python数组的索引\n",
    "print(x[0,1])  # 同x[0][1]，ndarray数组的索引\n",
    "x = numpy.array([[[1, 2], [3,4]], [[5, 6], [7,8]]])\n",
    "print(x[0])     # [[1 2],[3 4]]\n",
    "y = x[0].copy() # 生成一个副本\n",
    "z = x[0]        # 未生成一个副本\n",
    "print(y)        # [[1 2],[3 4]]\n",
    "print(y[0,0])   # 1\n",
    "y[0,0] = 0 \n",
    "z[0,0] = -1\n",
    "print(y)        # [[0 2],[3 4]]\n",
    "print(x[0])     # [[-1 2],[3 4]]\n",
    "print(z)        # [[-1 2],[3 4]]\n",
    "\n",
    "print('ndarray的切片')\n",
    "x = numpy.array([1,2,3,4,5])\n",
    "print(x[1:3])   # [2,3] 右边开区间\n",
    "print(x[:3])    # [1,2,3] 左边默认为 0\n",
    "print(x[1:])    # [2,3,4,5] 右边默认为元素个数\n",
    "print(x[0:4:2]) # [1,3] 下标递增2\n",
    "x = numpy.array([[1,2],[3,4],[5,6]])\n",
    "print(x[:2])    # [[1 2],[3 4]]\n",
    "print(x[:2,:1]) # [[1],[3]]\n",
    "x[:2,:1] = 0    # 用标量赋值\n",
    "print(x)        # [[0,2],[0,4],[5,6]]\n",
    "x[:2,:1] = [[8],[6]] # 用数组赋值\n",
    "print(x)        # [[8,2],[6,4],[5,6]]"
   ]
  },
  {
   "cell_type": "markdown",
   "metadata": {},
   "source": [
    "<h2> 1.5 ndarray常用统计方法：</h2>\n",
    "\n",
    "sum：     对数组全部或者某个维度进行求和\n",
    "\n",
    "mean：   算数平均\n",
    "\n",
    "std,var： 标准差和方差\n",
    "\n",
    "min,max： 最小值，最大值\n",
    "\n",
    "argmin, argmax：   最大，最小元素索引\n",
    "\n",
    "cumsum：  累计和\n",
    "\n",
    "cumprod： 累计积"
   ]
  },
  {
   "cell_type": "code",
   "execution_count": 5,
   "metadata": {},
   "outputs": [
    {
     "name": "stdout",
     "output_type": "stream",
     "text": [
      "numpy的基本统计方法\n2.0\n[1.5 3.  1.5]\n[1.66666667 2.33333333]\n12\n[3 6 3]\n3\n[2 3 2]\n[ 1  3  6  9 10 12]\n[ 1  2  6 18 18 36]\n"
     ]
    }
   ],
   "source": [
    "print('numpy的基本统计方法')\n",
    "x = numpy.array([[1,2],[3,3],[1,2]]) #同一维度上的数组长度须一致\n",
    "print(x.mean())       # 2\n",
    "print(x.mean(axis=1)) # 对每一行的元素求平均\n",
    "print(x.mean(axis=0)) # 对每一列的元素求平均\n",
    "print(x.sum())        # 同理 12\n",
    "print(x.sum(axis=1))  # [3 6 3]\n",
    "print(x.max())        # 3\n",
    "print(x.max(axis=1))  # [2 3 2]\n",
    "print(x.cumsum())     # [ 1  3  6  9 10 12]\n",
    "print(x.cumprod())    # [ 1  2  6 18 18 36]"
   ]
  },
  {
   "cell_type": "markdown",
   "metadata": {},
   "source": [
    "<h2> 二、Pandas的DataFram数据类型 </h2>\n",
    "\n",
    "Pandas [1]  是python的一个数据分析包，最初由AQR Capital Management于2008年4月开发，并于2009年底开源出来，目前由专注于Python数据包开发的\n",
    "\n",
    "PyData开发team继续开发和维护，属于PyData项目的一部分。Pandas最初被作为金融数据分析工具而开发出来，因此，pandas为时间序列分析提供了很好\n",
    "\n",
    "的支持。 Pandas的名称来自于面板数据（panel data）和python数据分析（data analysis）。panel data是经济学中关于多维数据集的一个术语，\n",
    "\n",
    "在Pandas中也提供了panel的数据类型。\n",
    "\n",
    "Pandas的主要数据类型：\n",
    "\n",
    "Series：一维数组，与Numpy中的一维array类似。二者与Python基本的数据结构List也很相近。Series如今能保存不同种数据类型，字符串、boolean值、\n",
    "\n",
    "数字等都能保存在Series中。\n",
    "\n",
    "Time- Series：以时间为索引的Series。\n",
    "\n",
    "DataFrame：二维的表格型数据结构。很多功能与R中的data.frame类似。可以将DataFrame理解为Series的容器。"
   ]
  },
  {
   "cell_type": "markdown",
   "metadata": {},
   "source": [
    "<h2> 2.1 创建Series、DataFrame对象 </h2>"
   ]
  },
  {
   "cell_type": "code",
   "execution_count": 19,
   "metadata": {},
   "outputs": [
    {
     "name": "stdout",
     "output_type": "stream",
     "text": [
      "构建3*3的DataFrame\n   col0  col1  col2\na    11    12    13\nb    21    22    23\nc    31    32    33\n\n用iloc方法按顺序取第2行，iloc方法按行号引用\ncol0    21\ncol1    22\ncol2    23\nName: b, dtype: int32\n\n用loc方法按行索引取第2行，loc方法可以按索引引用\ncol0    21\ncol1    22\ncol2    23\nName: b, dtype: int32\n\n用loc方法按列索引取col1列\na    12\nb    22\nc    32\nName: col1, dtype: int32\n\n用loc方法按行索引，列索引取第1行第一列值\n22\n"
     ]
    }
   ],
   "source": [
    "#构建3X3的DataFrame，列名col1,col2,col3,行索引a,b,c\n",
    "import pandas as pd\n",
    "import numpy as np\n",
    "\n",
    "array=np.array([[11,12,13],[21,22,23],[31,32,33]])\n",
    "df = pd.DataFrame(array, columns=['col0','col1','col2'], index=['a','b','c'])\n",
    "print('构建3*3的DataFrame')\n",
    "print(df)\n",
    "print()\n",
    "\n",
    "print('用iloc方法按顺序取第2行，iloc方法按行号引用')  #注意python索引从0行开始，所以索引1表示第二行\n",
    "line1=df.iloc[1]\n",
    "print(line1)\n",
    "print()\n",
    "\n",
    "print('用loc方法按行索引取第2行，loc方法可以按索引引用')\n",
    "line1=df.loc['b',:]\n",
    "print(line1)\n",
    "print()\n",
    "\n",
    "print('用loc方法按列索引取col1列')\n",
    "col1=df.loc[:,'col1']\n",
    "print(col1)\n",
    "print()\n",
    "\n",
    "print('用loc方法按行索引，列索引取第1行第一列值')\n",
    "val1=df.loc['b','col1']\n",
    "print(val1)"
   ]
  },
  {
   "cell_type": "code",
   "execution_count": 25,
   "metadata": {},
   "outputs": [
    {
     "name": "stdout",
     "output_type": "stream",
     "text": [
      "DataFrame的一行或者一列，就是一个Series，取一列看类型\na    13\nb    23\nc    33\nName: col2, dtype: int32\ncol2类型为:<class 'pandas.core.series.Series'>\n\n"
     ]
    }
   ],
   "source": [
    "#Series和DataFrame的关系\n",
    "print('DataFrame的一行或者一列，就是一个Series，取一列看类型')\n",
    "col2=df['col2']\n",
    "print(col2)\n",
    "print('col2类型为:'+str(type(col2)))\n",
    "print()"
   ]
  },
  {
   "cell_type": "markdown",
   "metadata": {},
   "source": [
    "<h2> 2.2 DataFrame对象增加行，或者增加列 </h2>"
   ]
  },
  {
   "cell_type": "code",
   "execution_count": 24,
   "metadata": {},
   "outputs": [
    {
     "name": "stdout",
     "output_type": "stream",
     "text": [
      "DataFrame对象增加一计算列col3\n   col0  col1  col2  col3\na    11    12    13  1300\nb    21    22    23  2300\nc    31    32    33  3300\n\nDataFrame对象增加一列固定值列col3\n   col0  col1  col2  col3\na    11    12    13   555\nb    21    22    23   555\nc    31    32    33   555\n\n"
     ]
    }
   ],
   "source": [
    "print('DataFrame对象增加一计算列col3')\n",
    "df['col3']=df['col2']*100\n",
    "print(df)\n",
    "print()\n",
    "\n",
    "print('DataFrame对象增加一列固定值列col3')\n",
    "df['col3']=555\n",
    "print(df)\n",
    "print()"
   ]
  },
  {
   "cell_type": "markdown",
   "metadata": {},
   "source": [
    "<h2> 2.3 Series和DataFrame索引 </h2>"
   ]
  },
  {
   "cell_type": "markdown",
   "metadata": {},
   "source": [
    "构建Series和DataFrame时候如果不指定索引，系统会用0开头的数字序号作为索引，如果用户想用自己的索引，可以在构建的时候指定，也可以构建好之后指定。\n",
    "\n",
    "一般索引所用的值不能重复，在时间序列数据中，通常以时间作为行索引。索引并不属于DataFrame的列信息，索引一般用于检索、引用数据。"
   ]
  },
  {
   "cell_type": "code",
   "execution_count": 47,
   "metadata": {},
   "outputs": [
    {
     "name": "stdout",
     "output_type": "stream",
     "text": [
      "设置时间索引前，datetime只是一列:\n                     col0  col1  col2  col3            datetime\ndatetime                                                       \n2018-10-01 12:00:00    11    12    13   555 2018-10-01 12:00:00\n2018-10-01 12:01:00    21    22    23   555 2018-10-01 12:01:00\n2018-10-01 12:02:00    31    32    33   555 2018-10-01 12:02:00\n\n设置时间索引后，datetime变成索引:\n                     col0  col1  col2  col3\ndatetime                                   \n2018-10-01 12:00:00    11    12    13   555\n2018-10-01 12:01:00    21    22    23   555\n2018-10-01 12:02:00    31    32    33   555\n\n通过时间索引引用数据，取某行:\ncol0     11\ncol1     12\ncol2     13\ncol3    555\nName: 2018-10-01 12:00:00, dtype: int64\n\n通过时间索引引用数据，取某行某列\n13\n\n对时间索引进行排序(倒序）:\n                     col0  col1  col2  col3\ndatetime                                   \n2018-10-01 12:02:00    31    32    33   555\n2018-10-01 12:01:00    21    22    23   555\n2018-10-01 12:00:00    11    12    13   555\n\n时间索引是一个DatetimeIndex数组，可以引用或者操作\nDatetimeIndex(['2018-10-01 12:00:00', '2018-10-01 12:01:00',\n               '2018-10-01 12:02:00'],\n              dtype='datetime64[ns]', name='datetime', freq=None)\n索引开始时间: 2018-10-01 12:00:00\n"
     ]
    }
   ],
   "source": [
    "#导入数据如果不正常，根据操作系统不同，修改路径\n",
    "import datetime\n",
    "a=[\n",
    "    datetime.datetime(2018,10,1,12,0,0),\n",
    "    datetime.datetime(2018,10,1,12,1,0),\n",
    "    datetime.datetime(2018,10,1,12,2,0)\n",
    "]\n",
    "df['datetime']=a\n",
    "\n",
    "print('设置时间索引前，datetime只是一列:')\n",
    "print(df)\n",
    "print()\n",
    "\n",
    "print('设置时间索引后，datetime变成索引:')\n",
    "df=df.set_index('datetime')\n",
    "print(df)\n",
    "print()\n",
    "\n",
    "print('通过时间索引引用数据，取某行:')\n",
    "idx=datetime.datetime(2018,10,1,12,0,0)\n",
    "print(df.loc[idx,:])\n",
    "print()\n",
    "\n",
    "print('通过时间索引引用数据，取某行某列')\n",
    "print(df.loc[idx,'col2'])\n",
    "print()\n",
    "\n",
    "print('对时间索引进行排序(倒序）:')\n",
    "print(df.sort_index(ascending=False))\n",
    "print()\n",
    "\n",
    "print('时间索引是一个DatetimeIndex数组，可以引用或者操作')\n",
    "print(df.index)\n",
    "print('索引开始时间:',df.index[0])"
   ]
  },
  {
   "cell_type": "markdown",
   "metadata": {},
   "source": [
    "<h2> 2.4 Series或者DataFrame的连接合并 </h2>"
   ]
  },
  {
   "cell_type": "code",
   "execution_count": 50,
   "metadata": {},
   "outputs": [
    {
     "name": "stdout",
     "output_type": "stream",
     "text": [
      "将两个Series按列合并成一个有2列的DataFrame\ndatetime\n2018-10-01 12:00:00    11\n2018-10-01 12:01:00    21\n2018-10-01 12:02:00    31\nName: col0, dtype: int32\n\ndatetime\n2018-10-01 12:00:00    12\n2018-10-01 12:01:00    22\n2018-10-01 12:02:00    32\nName: col1, dtype: int32\n\n                     col0  col1\ndatetime                       \n2018-10-01 12:00:00    11    12\n2018-10-01 12:01:00    21    22\n2018-10-01 12:02:00    31    32\n\n将两个DataFrame合并成4列的DataFrame\n                     col0  col1  col0  col1\ndatetime                                   \n2018-10-01 12:00:00    11    12    11    12\n2018-10-01 12:01:00    21    22    21    22\n2018-10-01 12:02:00    31    32    31    32\n将两个DataFrame按行合并成一个DataFrame\n                     col0  col1\n2018-10-01 12:00:00    11    12\n2018-10-01 12:01:00    21    22\n2018-10-01 12:02:00    31    32\n2018-10-01 12:03:00    41    42\n2018-10-01 12:04:00    51    52\n2018-10-01 12:05:00    61    62\n"
     ]
    }
   ],
   "source": [
    "print('将两个Series按列合并成一个有2列的DataFrame')\n",
    "a=df.col0\n",
    "b=df.col1\n",
    "print(a)\n",
    "print()\n",
    "print(b)\n",
    "print()\n",
    "ab=pd.concat([a,b],axis=1) #axis=1表示按列拼接\n",
    "print(ab)\n",
    "print()\n",
    "\n",
    "print('将两个DataFrame合并成4列的DataFrame')\n",
    "c=pd.concat([ab,ab],1)\n",
    "print(c)\n",
    "\n",
    "print('将两个DataFrame按行合并成一个DataFrame')\n",
    "timeidx=pd.DatetimeIndex([\n",
    "    datetime.datetime(2018,10,1,12,3,0),\n",
    "    datetime.datetime(2018,10,1,12,4,0),\n",
    "    datetime.datetime(2018,10,1,12,5,0)\n",
    "])\n",
    "d=pd.DataFrame(data=[[41,42],[51,52],[61,62]],index=timeidx,columns=['col0','col1'])\n",
    "e=pd.concat([ab,d],axis=0)\n",
    "print(e)"
   ]
  },
  {
   "cell_type": "markdown",
   "metadata": {},
   "source": [
    "<h2> 2.5 Pandas的统计运算 </h2>"
   ]
  },
  {
   "cell_type": "code",
   "execution_count": 87,
   "metadata": {},
   "outputs": [
    {
     "name": "stdout",
     "output_type": "stream",
     "text": [
      "常用统计方法：\n累加： 222 最大值： 62 均值： 37.0 标准差： 18.708286933869708\n\n按窗口=3滚动累加：\n2018-10-01 12:00:00      NaN\n2018-10-01 12:01:00      NaN\n2018-10-01 12:02:00     66.0\n2018-10-01 12:03:00     96.0\n2018-10-01 12:04:00    126.0\n2018-10-01 12:05:00    156.0\nName: col1, dtype: float64\n\n数据向后移动1步：\n                     col0  col1\n2018-10-01 12:00:00   NaN   NaN\n2018-10-01 12:01:00  11.0  12.0\n2018-10-01 12:02:00  21.0  22.0\n2018-10-01 12:03:00  31.0  32.0\n2018-10-01 12:04:00  41.0  42.0\n2018-10-01 12:05:00  51.0  52.0\n数据向前移动1步\n                     col0  col1\n2018-10-01 12:00:00  21.0  22.0\n2018-10-01 12:01:00  31.0  32.0\n2018-10-01 12:02:00  41.0  42.0\n2018-10-01 12:03:00  51.0  52.0\n2018-10-01 12:04:00  61.0  62.0\n2018-10-01 12:05:00   NaN   NaN\n\n计算收益率：\n"
     ]
    },
    {
     "name": "stdout",
     "output_type": "stream",
     "text": [
      "datetime\n2018-10-22 09:10:00         NaN\n2018-10-22 09:15:00   -0.001242\n2018-10-22 09:20:00    0.006216\n2018-10-22 09:25:00   -0.001647\n2018-10-22 09:30:00    0.000000\n2018-10-22 09:35:00    0.001238\n2018-10-22 09:40:00    0.000000\n2018-10-22 09:45:00   -0.003296\n2018-10-22 09:50:00   -0.001240\n2018-10-22 09:55:00    0.000828\n2018-10-22 10:00:00    0.000000\n2018-10-22 10:05:00    0.000414\n2018-10-22 10:10:00   -0.001240\n2018-10-22 10:15:00    0.001242\n2018-10-22 10:35:00    0.000827\n2018-10-22 10:40:00    0.001239\n2018-10-22 10:45:00   -0.000413\n2018-10-22 10:50:00    0.000413\n2018-10-22 10:55:00    0.000825\n2018-10-22 11:00:00    0.005359\n2018-10-22 11:05:00   -0.003280\n2018-10-22 11:10:00    0.000411\n2018-10-22 11:15:00   -0.000822\n2018-10-22 11:20:00    0.000000\n2018-10-22 11:25:00    0.001235\n2018-10-22 11:30:00   -0.000411\n2018-10-22 13:35:00   -0.000822\n2018-10-22 13:40:00   -0.002881\n2018-10-22 13:45:00    0.000000\n2018-10-22 13:50:00    0.000000\n                         ...   \n2018-11-09 09:30:00   -0.000887\n2018-11-09 09:35:00    0.000000\n2018-11-09 09:40:00    0.001331\n2018-11-09 09:45:00   -0.000886\n2018-11-09 09:50:00    0.000887\n2018-11-09 09:55:00    0.000000\n2018-11-09 10:00:00    0.003988\n2018-11-09 10:05:00   -0.000441\n2018-11-09 10:10:00    0.000000\n2018-11-09 10:15:00   -0.000883\n2018-11-09 10:35:00   -0.000884\n2018-11-09 10:40:00    0.000442\n2018-11-09 10:45:00    0.000000\n2018-11-09 10:50:00   -0.000884\n2018-11-09 10:55:00    0.000885\n2018-11-09 11:00:00    0.000000\n2018-11-09 11:05:00    0.000000\n2018-11-09 11:10:00    0.000884\n2018-11-09 11:15:00    0.000442\n2018-11-09 11:20:00   -0.000883\n2018-11-09 11:25:00   -0.002651\n2018-11-09 11:30:00    0.000000\n2018-11-09 13:35:00    0.000000\n2018-11-09 13:40:00    0.000000\n2018-11-09 13:45:00    0.002658\n2018-11-09 13:50:00   -0.000884\n2018-11-09 13:55:00    0.000442\n2018-11-09 14:00:00   -0.000442\n2018-11-09 14:05:00   -0.000885\n2018-11-09 14:10:00   -0.000443\nName: Close, Length: 1000, dtype: float64\n\n计算滚动移动平均：\n"
     ]
    },
    {
     "data": {
      "image/png": "[encoded data removed]",
      "text/plain": [
       "<matplotlib.figure.Figure at 0x37675576d8>"
      ]
     },
     "metadata": {},
     "output_type": "display_data"
    }
   ],
   "source": [
    "import matplotlib.pyplot as plt\n",
    "\n",
    "print('常用统计方法：')\n",
    "print('累加：',e.col1.sum(),'最大值：',e.col1.max(),'均值：',e.col1.mean(),'标准差：',e.col1.std())\n",
    "print()\n",
    "\n",
    "print('按窗口=3滚动累加：')\n",
    "print(e.col1.rolling(3).sum())\n",
    "print()\n",
    "\n",
    "print('数据向后移动1步：')\n",
    "print(e.shift(1))\n",
    "\n",
    "print('数据向前移动1步')\n",
    "print(e.shift(-1))\n",
    "print()\n",
    "\n",
    "print('计算收益率：')\n",
    "ru=pd.read_excel('C:\\\\HiData\\\\Users\\\\ShenHong\\\\合作\\\\融秀\\\\AI量化初级\\\\notebook\\\\SHFE_ru_HOT_5.xlsx')\n",
    "ru['datetime']=pd.to_datetime(ru['datetime'])\n",
    "ru=ru.set_index('datetime')\n",
    "ru=ru.iloc[-1000:]\n",
    "ret=(ru.Close - ru.Close.shift(1))/ru.Close.shift(1)\n",
    "print(ret)\n",
    "print()\n",
    "\n",
    "print('计算滚动移动平均并画图：')\n",
    "ma20=ru.Close.rolling(20).mean()\n",
    "close_ma20=pd.concat([ru.Close,ma20],axis=1)\n",
    "close_ma20=close_ma20.dropna(how='any')\n",
    "plt.figure(figsize=[20,10])\n",
    "plt.plot(close_ma20.values)\n",
    "plt.show()"
   ]
  },
  {
   "cell_type": "markdown",
   "metadata": {},
   "source": [
    "<h2> 2.6 Numpy和Pandas之间相互转化 </h2>"
   ]
  },
  {
   "cell_type": "code",
   "execution_count": 94,
   "metadata": {},
   "outputs": [
    {
     "name": "stdout",
     "output_type": "stream",
     "text": [
      "Pandas的DataFrame转化成numpy\n[[ 11  12  13 555]\n [ 21  22  23 555]\n [ 31  32  33 555]]\n\nNumpy转化成Pandas\n[[11 12 13]\n [21 22 23]\n [31 32 33]]\n\n    A   B   C\n0  11  12  13\n1  21  22  23\n2  31  32  33\n"
     ]
    }
   ],
   "source": [
    "print('Pandas的DataFrame转化成numpy')\n",
    "arry=df.values  #DataFrame或者Series只需要.values即可转化成2维或者1维numpy数组\n",
    "print(arry)\n",
    "print()\n",
    "\n",
    "print('Numpy转化成Pandas')\n",
    "arry=np.array([[101,102,103],[201,202,203],[301,302,303]])\n",
    "print(array)\n",
    "print()\n",
    "df2=pd.DataFrame(array,columns=['A','B','C'])\n",
    "print(df2)"
   ]
  },
  {
   "cell_type": "code",
   "execution_count": null,
   "metadata": {},
   "outputs": [],
   "source": []
  }
 ],
 "metadata": {
  "kernelspec": {
   "display_name": "Python 2",
   "language": "python",
   "name": "python2"
  },
  "language_info": {
   "codemirror_mode": {
    "name": "ipython",
    "version": 2
   },
   "file_extension": ".py",
   "mimetype": "text/x-python",
   "name": "python",
   "nbconvert_exporter": "python",
   "pygments_lexer": "ipython2",
   "version": "2.7.6"
  }
 },
 "nbformat": 4,
 "nbformat_minor": 0
}
